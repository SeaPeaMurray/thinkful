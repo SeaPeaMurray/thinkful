{
 "cells": [
  {
   "cell_type": "markdown",
   "metadata": {},
   "source": [
    "# Yelp text data"
   ]
  },
  {
   "cell_type": "code",
   "execution_count": 1,
   "metadata": {},
   "outputs": [],
   "source": [
    "import numpy as np\n",
    "import pandas as pd\n",
    "import matplotlib.pyplot as plt\n",
    "import re\n",
    "import os\n",
    "import seaborn as sns\n",
    "import dask.dataframe as dd\n",
    "from dask import delayed\n",
    "from dask_ml.model_selection import train_test_split\n",
    "import spacy\n",
    "import spacy_readability\n",
    "from gensim.models import Word2Vec, Doc2Vec\n",
    "from gensim.models.doc2vec import TaggedDocument\n",
    "from gensim.corpora import Dictionary\n",
    "from gensim.similarities import Similarity\n",
    "from gensim.models import LsiModel\n",
    "# from gensim.test.utils import common_dictionary, common_corpus\n",
    "from sklearn.feature_extraction.text import CountVectorizer, TfidfVectorizer\n",
    "from sklearn.manifold import TSNE\n",
    "# from sklearn.model_selection import train_test_split\n",
    "# from tqdm import tqdm\n",
    "\n",
    "sns.set_style('darkgrid')\n",
    "laptop = '/media/seapea/Blade HDD/_Storage/Data/yelp_dataset/'\n",
    "tower = '/run/media/seapea/HDD1TB_1/SharedSpace/_Large_datasets/Yelp/'\n",
    "nlp = spacy.load('en_core_web_md', disable=['tagger', 'ner'])\n",
    "%matplotlib inline"
   ]
  },
  {
   "cell_type": "code",
   "execution_count": 2,
   "metadata": {},
   "outputs": [
    {
     "data": {
      "text/html": [
       "<div>\n",
       "<style scoped>\n",
       "    .dataframe tbody tr th:only-of-type {\n",
       "        vertical-align: middle;\n",
       "    }\n",
       "\n",
       "    .dataframe tbody tr th {\n",
       "        vertical-align: top;\n",
       "    }\n",
       "\n",
       "    .dataframe thead th {\n",
       "        text-align: right;\n",
       "    }\n",
       "</style>\n",
       "<table border=\"1\" class=\"dataframe\">\n",
       "  <thead>\n",
       "    <tr style=\"text-align: right;\">\n",
       "      <th></th>\n",
       "      <th>review_id</th>\n",
       "      <th>stars</th>\n",
       "      <th>useful</th>\n",
       "      <th>text</th>\n",
       "    </tr>\n",
       "  </thead>\n",
       "  <tbody>\n",
       "    <tr>\n",
       "      <th>0</th>\n",
       "      <td>Q1sbwvVQXV2734tPgoKj4Q</td>\n",
       "      <td>1</td>\n",
       "      <td>6</td>\n",
       "      <td>Total bill for this horrible service? Over $8G...</td>\n",
       "    </tr>\n",
       "    <tr>\n",
       "      <th>1</th>\n",
       "      <td>GJXCdrto3ASJOqKeVWPi6Q</td>\n",
       "      <td>5</td>\n",
       "      <td>0</td>\n",
       "      <td>I *adore* Travis at the Hard Rock's new Kelly ...</td>\n",
       "    </tr>\n",
       "    <tr>\n",
       "      <th>2</th>\n",
       "      <td>2TzJjDVDEuAW6MR5Vuc1ug</td>\n",
       "      <td>5</td>\n",
       "      <td>3</td>\n",
       "      <td>I have to say that this office really has it t...</td>\n",
       "    </tr>\n",
       "    <tr>\n",
       "      <th>3</th>\n",
       "      <td>yi0R0Ugj_xUx_Nek0-_Qig</td>\n",
       "      <td>5</td>\n",
       "      <td>0</td>\n",
       "      <td>Went in for a lunch. Steak sandwich was delici...</td>\n",
       "    </tr>\n",
       "    <tr>\n",
       "      <th>4</th>\n",
       "      <td>11a8sVPMUFtaC7_ABRkmtw</td>\n",
       "      <td>1</td>\n",
       "      <td>7</td>\n",
       "      <td>Today was my second out of three sessions I ha...</td>\n",
       "    </tr>\n",
       "  </tbody>\n",
       "</table>\n",
       "</div>"
      ],
      "text/plain": [
       "                review_id  stars  useful  \\\n",
       "0  Q1sbwvVQXV2734tPgoKj4Q      1       6   \n",
       "1  GJXCdrto3ASJOqKeVWPi6Q      5       0   \n",
       "2  2TzJjDVDEuAW6MR5Vuc1ug      5       3   \n",
       "3  yi0R0Ugj_xUx_Nek0-_Qig      5       0   \n",
       "4  11a8sVPMUFtaC7_ABRkmtw      1       7   \n",
       "\n",
       "                                                text  \n",
       "0  Total bill for this horrible service? Over $8G...  \n",
       "1  I *adore* Travis at the Hard Rock's new Kelly ...  \n",
       "2  I have to say that this office really has it t...  \n",
       "3  Went in for a lunch. Steak sandwich was delici...  \n",
       "4  Today was my second out of three sessions I ha...  "
      ]
     },
     "execution_count": 2,
     "metadata": {},
     "output_type": "execute_result"
    }
   ],
   "source": [
    "# usr = dd.read_json('G:/SharedSpace/_Large_datasets/Yelp/user.json', lines=True, blocksize=2**28)\n",
    "# biz = dd.read_json('E:/_Large_datasets/Yelp/business.json', lines=True)#, blocksize=2**28)\n",
    "\n",
    "rev = dd.read_json(laptop + 'review.json', \n",
    "                   lines=True, blocksize=2**22) # lower blocksize (i.e. 2*22) made this work in Linux\n",
    "rev = rev.drop(['funny', 'cool', 'date', 'user_id', 'business_id'], axis=1)\n",
    "rev = rev.drop_duplicates(subset='text')\n",
    "# rev = rev.set_index('review_id')\n",
    "# rev.to_parquet(laptop + 'parquet/')\n",
    "\n",
    "# Read in a sample of the larger dataset for necessary trial and error\n",
    "df0 = pd.read_parquet(laptop + 'parquet/part.0.parquet')#.set_index('review_id')\n",
    "df1 = pd.read_parquet(laptop + 'parquet/part.1.parquet')#.set_index('review_id')\n",
    "df2 = pd.read_parquet(laptop + 'parquet/part.2.parquet')#.set_index('review_id')\n",
    "df3 = pd.read_parquet(laptop + 'parquet/part.3.parquet')#.set_index('review_id')\n",
    "df4 = pd.read_parquet(laptop + 'parquet/part.4.parquet')#.set_index('review_id')\n",
    "\n",
    "# Let's concat and convert to Dask\n",
    "df = pd.concat([df0, df1, df2, df3, df4], axis=0)\n",
    "del(df0, df1, df2, df3, df4)\n",
    "ddf = dd.from_pandas(df, chunksize=2**12)\n",
    "\n",
    "rev.head()"
   ]
  },
  {
   "cell_type": "markdown",
   "metadata": {},
   "source": [
    "## Dask challenges\n",
    "Throughout this project, I have found it to be very painful working with Dask. It is not covered in the course anywhere, despite being a more realistic work environment where too much data exists to analyze things in memory. Arithmetic computations and other analyses across the Dask dataframe chunks pose challenges we haven't seen when operating only in memory.\n",
    "\n",
    "Some basic issues you can not run in Dask include:\n",
    "\n",
    "- Boolean indexing\n",
    "- .loc slicing (returning many values)\n",
    "- spaCy pipelines (memory allocation)\n",
    "- Word2Vec conversions (memory allocation)\n",
    "- Basic computations (very long turn around)\n",
    "\n",
    "Because of these limitations, some of the work and drudge behing the scenes might not be displayed in the notebook.\n",
    "\n",
    "### Distribution of review ratings\n",
    "Let's try some basic Dask computations and observe the distribution of review ratings."
   ]
  },
  {
   "cell_type": "code",
   "execution_count": 4,
   "metadata": {},
   "outputs": [
    {
     "data": {
      "text/plain": [
       "<matplotlib.axes._subplots.AxesSubplot at 0x7f7603d42e80>"
      ]
     },
     "execution_count": 4,
     "metadata": {},
     "output_type": "execute_result"
    },
    {
     "data": {
      "image/png": "[encoded data removed]",
      "text/plain": [
       "<Figure size 1152x648 with 2 Axes>"
      ]
     },
     "metadata": {
      "needs_background": "light"
     },
     "output_type": "display_data"
    }
   ],
   "source": [
    "fig, (ax1, ax2) = plt.subplots(1, 2, figsize=(16,9))\n",
    "sns.distplot(np.log((rev.useful + 2).compute()), ax=ax1)\n",
    "sns.boxplot(rev.useful.compute(), ax=ax2)"
   ]
  },
  {
   "cell_type": "code",
   "execution_count": 51,
   "metadata": {},
   "outputs": [
    {
     "data": {
      "text/plain": [
       "203142    Dinner for 1.\\n\\n- Preface\\nI went to Amy's Ba...\n",
       "Name: text, dtype: object"
      ]
     },
     "execution_count": 51,
     "metadata": {},
     "output_type": "execute_result"
    }
   ],
   "source": [
    "rev[rev.useful == rev.useful.max().compute()].text.compute()"
   ]
  },
  {
   "cell_type": "markdown",
   "metadata": {},
   "source": [
    "### Approaching parsing of vast text\n",
    "Another simple task to test the library - we will try the TfidfVectorizer. I'm working with this instead of the regular counter because it will keep our values between zero and one for the visualization I want to map."
   ]
  },
  {
   "cell_type": "code",
   "execution_count": 7,
   "metadata": {},
   "outputs": [
    {
     "name": "stdout",
     "output_type": "stream",
     "text": [
      "['best', 'came', 'chicken', 'come', 'definitely', 'did', 'didn', 'don', 'food', 'friendly', 'good', 'got', 'great', 'just', 'like', 'little', 'love', 'nice', 'order', 'ordered', 'people', 'place', 'really', 'restaurant', 'service', 'staff', 'time', 'try', 've', 'went']\n"
     ]
    }
   ],
   "source": [
    "@delayed\n",
    "def ret_count(ddf):\n",
    "    vec = TfidfVectorizer(stop_words='english', ngram_range=(1,2), max_features=30)\n",
    "    X = vec.fit_transform(ddf)\n",
    "    names = vec.get_feature_names()\n",
    "    return X, names\n",
    "\n",
    "ddf, names = ret_count(rev.text).compute()\n",
    "print(names)"
   ]
  },
  {
   "cell_type": "markdown",
   "metadata": {},
   "source": [
    "### Success! \n",
    "Our vectorizer didn't overload the system!\n",
    "\n",
    "Unfortunately, the counts are exceedingly high and overpower the other observations making this unhelpful."
   ]
  },
  {
   "cell_type": "code",
   "execution_count": 9,
   "metadata": {
    "scrolled": false
   },
   "outputs": [
    {
     "data": {
      "image/png": "[encoded data removed]",
      "text/plain": [
       "<Figure size 1152x648 with 4 Axes>"
      ]
     },
     "metadata": {
      "needs_background": "light"
     },
     "output_type": "display_data"
    }
   ],
   "source": [
    "def top4(val, ax):\n",
    "    sns.distplot(ddf.todense()[:,val].reshape(1,-1), kde=False, ax=ax)\n",
    "    \n",
    "fig, ((ax1, ax2), (ax3, ax4)) = plt.subplots(2, 2, figsize=(16,9), sharex=True, sharey=True) \n",
    "axes = [ax1, ax2, ax3, ax4]\n",
    "\n",
    "for val, ax in zip(range(4), axes):\n",
    "    top4(val, ax)"
   ]
  },
  {
   "cell_type": "markdown",
   "metadata": {},
   "source": [
    "# Dask hurdles overcome\n",
    "After some hours of troubleshooting (not shown in project), I comfortable with the distributed dataframes\n",
    "\n",
    "## Other memory improvements - Previous attempts at spaCy\n",
    "In a previous project, I limited my vocabulary and text subset to one million words as spaCy throws an error when too large a vocabulary exists for use in memory. I have since discovered a lazy computation design for this exists within spaCy called the pipe. This allows spaCy to batch the documents and prevent breaking memory constraints. This has been a helpful discovery.\n",
    "\n",
    "### Steps to find review value\n",
    "The steps below will be the analyses we take to find explicit value in reviews.\n",
    "\n",
    "#### Graph the count of words\n",
    "Maybe the frequency of certain words is more prevalent in more valuable reviews\n",
    "\n",
    "#### Word combinations?\n",
    "Are there combinations of words (phrases) that exist frequently?\n",
    "\n",
    "#### Readability\n",
    "Might be a factor\n",
    "\n",
    "#### Length of review\n",
    "Might also\n",
    "\n",
    "#### Combining the metrics\n",
    "Also checking if industries respond differently"
   ]
  },
  {
   "cell_type": "code",
   "execution_count": 345,
   "metadata": {},
   "outputs": [
    {
     "name": "stdout",
     "output_type": "stream",
     "text": [
      "['amazing', 'best', 'better', 'came', 'chicken', 'come', 'day', 'definitely', 'delicious', 'did', 'didn', 'don', 'experience', 'food', 'friendly', 'going', 'good', 'got', 'great', 'just', 'know', 'like', 'little', 'love', 'make', 'menu', 'new', 'nice', 'night', 'order', 'ordered', 'people', 'place', 'pretty', 'really', 'recommend', 'restaurant', 'right', 'said', 'say', 'service', 'staff', 'sure', 'time', 'try', 've', 'wait', 'want', 'way', 'went']\n"
     ]
    }
   ],
   "source": [
    "'''@delayed\n",
    "def ret_count(ddf):\n",
    "    vec = CountVectorizer(stop_words='english', ngram_range=(1,2), max_features=50)\n",
    "    X = vec.fit_transform(ddf)\n",
    "    names = vec.get_feature_names()\n",
    "    return X, names\n",
    "\n",
    "ddf, names = ret_count(rev.text).compute()\n",
    "print(names)'''"
   ]
  },
  {
   "cell_type": "markdown",
   "metadata": {},
   "source": [
    "## Crunching bag of words, need lemmas\n",
    "We will try this again with some preprocessing - the benefits of lemmatization would increase the diversity of words selected for features."
   ]
  },
  {
   "cell_type": "code",
   "execution_count": 10,
   "metadata": {},
   "outputs": [],
   "source": [
    "# Basic text cleaning\n",
    "def fix_nl(mytext):\n",
    "    text = re.sub(r'\\n\\n', '', mytext)\n",
    "    text = re.sub(r'\\n', '', text)\n",
    "    final = re.sub(r'  ', ' ', text)\n",
    "    return final\n",
    "\n",
    "# Basic lemmatize function\n",
    "def lemma_sent(sent):\n",
    "    return ' '.join(word.lemma_.lower() for word in sent if not word.is_punct and not word.is_stop)\n",
    "\n",
    "@delayed\n",
    "def process_n_count(series):\n",
    "    series = series.apply(fix_nl)\n",
    "    spaCy_text = nlp.pipe(series)\n",
    "    vec = CountVectorizer(stop_words='english', ngram_range=(1,2), max_features=300)\n",
    "    vec.fit_transform([lemma_sent(text) for text in spaCy_text])\n",
    "    return vec\n",
    "    \n",
    "@delayed\n",
    "def test(series, vec):\n",
    "    series = series.apply(fix_nl)\n",
    "    spaCy_test = nlp.pipe(series)\n",
    "    X_new = vec.transform(series)\n",
    "    return X_new"
   ]
  },
  {
   "cell_type": "code",
   "execution_count": 412,
   "metadata": {},
   "outputs": [
    {
     "data": {
      "text/plain": [
       "<5000x100 sparse matrix of type '<class 'numpy.int64'>'\n",
       "\twith 52872 stored elements in Compressed Sparse Row format>"
      ]
     },
     "execution_count": 412,
     "metadata": {},
     "output_type": "execute_result"
    }
   ],
   "source": [
    "# This cell will test the steps of my approach against a much smaller dataframe\n",
    "df.text = df.text.apply(fix_nl)\n",
    "new_txt = list(nlp.pipe(df.iloc[:5000].text))\n",
    "cvec = CountVectorizer(stop_words='english', max_features=100)\n",
    "cvec.fit_transform([lemma_sent(txt) for txt in new_txt])"
   ]
  },
  {
   "cell_type": "code",
   "execution_count": 426,
   "metadata": {},
   "outputs": [
    {
     "data": {
      "text/plain": [
       "<1000x100 sparse matrix of type '<class 'numpy.int64'>'\n",
       "\twith 10395 stored elements in Compressed Sparse Row format>"
      ]
     },
     "execution_count": 426,
     "metadata": {},
     "output_type": "execute_result"
    }
   ],
   "source": [
    "cvec.transform([lemma_sent(txt) for txt in list(nlp.pipe(df.iloc[5000:6000].text))])"
   ]
  },
  {
   "cell_type": "markdown",
   "metadata": {},
   "source": [
    "### Vectorized text transformation\n",
    "The transformation appears to work against new data! We will now attempt the same process against the entire 'rev' dataset. \n",
    "\n",
    "Note: This is the same tactic as we tried above (commented out), but we are hoping for better, more accurate results since we are reducing the text to lemmas and cleaning it more."
   ]
  },
  {
   "cell_type": "code",
   "execution_count": 5,
   "metadata": {},
   "outputs": [],
   "source": [
    "X_train, X_test, y_train, y_test = train_test_split(rev.text, rev.useful, test_size=0.5)"
   ]
  },
  {
   "cell_type": "code",
   "execution_count": 6,
   "metadata": {},
   "outputs": [],
   "source": [
    "# Had to run this cell after emptying as much in memory as possible\n",
    "# new_vec = process_n_count(X_train).compute()\n",
    "\n",
    "from joblib import dump, load\n",
    "# dump(new_vec, \"vec.joblib\")\n",
    "new_vec = load('vec.joblib')"
   ]
  },
  {
   "cell_type": "code",
   "execution_count": 12,
   "metadata": {},
   "outputs": [],
   "source": [
    "myX = test(X_test, new_vec).compute()"
   ]
  },
  {
   "cell_type": "code",
   "execution_count": 46,
   "metadata": {},
   "outputs": [],
   "source": [
    "from joblib import dump, load\n",
    "# dump(new_vec, \"vec.joblib\")\n",
    "vecc = load('vec.joblib')"
   ]
  },
  {
   "cell_type": "code",
   "execution_count": 49,
   "metadata": {},
   "outputs": [],
   "source": [
    "myX = test(X_test, vecc).compute()"
   ]
  },
  {
   "cell_type": "markdown",
   "metadata": {},
   "source": [
    "### Readability"
   ]
  },
  {
   "cell_type": "code",
   "execution_count": null,
   "metadata": {},
   "outputs": [],
   "source": [
    "# here"
   ]
  },
  {
   "cell_type": "code",
   "execution_count": null,
   "metadata": {},
   "outputs": [],
   "source": []
  },
  {
   "cell_type": "code",
   "execution_count": null,
   "metadata": {},
   "outputs": [],
   "source": []
  },
  {
   "cell_type": "markdown",
   "metadata": {},
   "source": [
    "### Doc2Vec: How to handle the large corpus\n",
    "After some trial, error, and research, it is my conclusion that the model computation will not differ between one large or several chunks. This stems from a blog written by the library's author - Radim Rehurek - discussing multiprocessing for faster running times. If the content can be processed in parallel, it is not requiring information from the entire corpus and can be run in pieces.\n",
    "\n",
    "### Verifying training updates\n",
    "We will verify if this can be done below. Within gensim, we can access the document and word vectors after training updates to see if the model updates."
   ]
  },
  {
   "cell_type": "code",
   "execution_count": 427,
   "metadata": {},
   "outputs": [],
   "source": [
    "# Tagging function with delayed capability\n",
    "@delayed\n",
    "def tag(df):\n",
    "    df.text = df.text.apply(fix_nl)\n",
    "    tags = []\n",
    "    for i, doc in enumerate(nlp.pipe(df.text, disable=['ner', 'parser'])):\n",
    "        mylist = [chunk.lemma_.lower() for chunk in doc if not chunk.is_punct and not chunk.is_stop]\n",
    "        tags.append(TaggedDocument(mylist, [i]))\n",
    "        \n",
    "    vec = Doc2Vec(min_count=1)\n",
    "    vec.build_vocab(tags)\n",
    "    \n",
    "    return vec, tags"
   ]
  },
  {
   "cell_type": "code",
   "execution_count": 27,
   "metadata": {},
   "outputs": [
    {
     "data": {
      "text/plain": [
       "[(17033, 0.38854920864105225),\n",
       " (23295, 0.3664354085922241),\n",
       " (12518, 0.3616259694099426),\n",
       " (12915, 0.3600383400917053),\n",
       " (14743, 0.35090503096580505)]"
      ]
     },
     "execution_count": 27,
     "metadata": {},
     "output_type": "execute_result"
    }
   ],
   "source": [
    "vec1, tags1 = tag(ddf).compute()\n",
    "test_arr = vec1.docvecs[0]\n",
    "vec1.docvecs.most_similar(0, topn=5)"
   ]
  },
  {
   "cell_type": "code",
   "execution_count": 20,
   "metadata": {},
   "outputs": [
    {
     "data": {
      "text/plain": [
       "[('cantor', 0.3950194716453552),\n",
       " ('allllways', 0.39479339122772217),\n",
       " ('chitown', 0.3757461905479431),\n",
       " ('fantastico', 0.35876384377479553),\n",
       " ('sick', 0.35497692227363586)]"
      ]
     },
     "execution_count": 20,
     "metadata": {},
     "output_type": "execute_result"
    }
   ],
   "source": [
    "vec1.wv.most_similar(tags1[0][0], topn=5)"
   ]
  },
  {
   "cell_type": "code",
   "execution_count": 28,
   "metadata": {},
   "outputs": [
    {
     "data": {
      "text/plain": [
       "[(17033, 0.38854920864105225),\n",
       " (23295, 0.3664354085922241),\n",
       " (12518, 0.3616259694099426),\n",
       " (12915, 0.3600383400917053),\n",
       " (14743, 0.35090503096580505)]"
      ]
     },
     "execution_count": 28,
     "metadata": {},
     "output_type": "execute_result"
    }
   ],
   "source": [
    "vec2, tags2 = tag(rev).compute()\n",
    "vec1.train(tags2, len(tags1) + len(tags2), epochs=5)\n",
    "test_arr1 = vec1.docvecs[0]\n",
    "vec1.docvecs.most_similar(0, topn=5)"
   ]
  },
  {
   "cell_type": "code",
   "execution_count": 22,
   "metadata": {},
   "outputs": [
    {
     "data": {
      "text/plain": [
       "[('apartment', 0.9960299134254456),\n",
       " ('spicy', 0.9960122108459473),\n",
       " ('oil', 0.9959917664527893),\n",
       " ('dry', 0.9959776401519775),\n",
       " ('b', 0.9959765672683716)]"
      ]
     },
     "execution_count": 22,
     "metadata": {},
     "output_type": "execute_result"
    }
   ],
   "source": [
    "vec1.wv.most_similar(tags1[0][0], topn=5)"
   ]
  },
  {
   "cell_type": "code",
   "execution_count": 31,
   "metadata": {},
   "outputs": [
    {
     "data": {
      "text/plain": [
       "0"
      ]
     },
     "execution_count": 31,
     "metadata": {},
     "output_type": "execute_result"
    }
   ],
   "source": [
    "# Every single value in in array is equal\n",
    "sum(test_arr != test_arr1)"
   ]
  },
  {
   "cell_type": "markdown",
   "metadata": {},
   "source": [
    "### Basic retraining failed\n",
    "It appears the document vectors within the model are *not* returning different results when compared with the most_similar method. I did see this somewhere but wanted to verify. We can verify the document vectors themselves are not different, as shown when comparing the test arrays.\n",
    "\n",
    "Moving forward, some Google queries and documentation digging show Doc2Vec does not allow the same training update approach that word vectors allow, as I suspected. We will have to work with the word embeddings instead.\n",
    "\n",
    "### Similarity_matrix\n",
    "We are actually able to \n",
    "\n",
    "#### Steps\n",
    "1. Create gensim Dictionary\n",
    "2. Create corpus of tuples\n",
    "3. Create LSI model with each input\n",
    "4. Query and fit a Dictionary object into the vector space\n",
    "\n",
    "Where does model.wv.similarity_matrix fit in?"
   ]
  },
  {
   "cell_type": "code",
   "execution_count": 277,
   "metadata": {},
   "outputs": [],
   "source": [
    "vec = CountVectorizer(max_features=100, ngram_range=(1,2), stop_words='english')\n",
    "\n",
    "@delayed\n",
    "def vectorize(df):\n",
    "    return vec.fit_transform(df.text)\n",
    "\n",
    "it = vectorize(rev).compute()"
   ]
  },
  {
   "cell_type": "code",
   "execution_count": 287,
   "metadata": {},
   "outputs": [
    {
     "data": {
      "text/plain": [
       "[(0, 0.8622897373758738), (1, -0.7724632421528443)]"
      ]
     },
     "execution_count": 287,
     "metadata": {},
     "output_type": "execute_result"
    }
   ],
   "source": [
    "# sklearn tool faster than [fix_nl(txt).split] for txt in rev.text.compute()])\n",
    "mydct = Dictionary([vec.get_feature_names()])\n",
    "mycorp = [mydct.doc2bow(fix_nl(txt).split()) for txt in rev.text.compute()]\n",
    "mylsi = LsiModel(mycorp, id2word=mydct, num_topics=2)\n",
    "mylsi[mydct.doc2bow(fix_nl(list(rev.text.loc[0].compute())[0]).split())]"
   ]
  },
  {
   "cell_type": "code",
   "execution_count": 290,
   "metadata": {},
   "outputs": [],
   "source": [
    "mybow = [mydct.doc2bow(fix_nl(list(rev.text.loc[i].compute())[0]).split()) for i in range(len(rev))]\n",
    "mylsa = [mylsi[bow] for bow in mybow]"
   ]
  },
  {
   "cell_type": "code",
   "execution_count": 340,
   "metadata": {},
   "outputs": [],
   "source": [
    "x = []\n",
    "y = []\n",
    "for i, val in enumerate(mylsa):\n",
    "    try:\n",
    "        x.append(val[0][1])\n",
    "    except:\n",
    "        pass\n",
    "    try:\n",
    "        y.append(val[1][1])\n",
    "    except:\n",
    "        pass"
   ]
  },
  {
   "cell_type": "code",
   "execution_count": 354,
   "metadata": {},
   "outputs": [
    {
     "data": {
      "text/plain": [
       "<matplotlib.axes._subplots.AxesSubplot at 0x7f39c2184f98>"
      ]
     },
     "execution_count": 354,
     "metadata": {},
     "output_type": "execute_result"
    },
    {
     "data": {
      "image/png": "[encoded data removed]",
      "text/plain": [
       "<Figure size 1152x648 with 1 Axes>"
      ]
     },
     "metadata": {
      "needs_background": "light"
     },
     "output_type": "display_data"
    }
   ],
   "source": [
    "fig, ax = plt.subplots(figsize=(16,9))\n",
    "sns.scatterplot(x=x, y=y, alpha=0.1)"
   ]
  },
  {
   "cell_type": "code",
   "execution_count": 342,
   "metadata": {},
   "outputs": [
    {
     "data": {
      "text/plain": [
       "7.533877018931459"
      ]
     },
     "execution_count": 342,
     "metadata": {},
     "output_type": "execute_result"
    }
   ],
   "source": [
    "max(y)"
   ]
  },
  {
   "cell_type": "code",
   "execution_count": 343,
   "metadata": {},
   "outputs": [
    {
     "data": {
      "text/plain": [
       "11.444883274051843"
      ]
     },
     "execution_count": 343,
     "metadata": {},
     "output_type": "execute_result"
    }
   ],
   "source": [
    "max(x)"
   ]
  },
  {
   "cell_type": "markdown",
   "metadata": {},
   "source": [
    "## Build two separate LSI models\n",
    "Compare the text to both and check soft cosine similarity?"
   ]
  },
  {
   "cell_type": "code",
   "execution_count": null,
   "metadata": {},
   "outputs": [],
   "source": []
  }
 ],
 "metadata": {
  "kernelspec": {
   "display_name": "Python 3",
   "language": "python",
   "name": "python3"
  },
  "language_info": {
   "codemirror_mode": {
    "name": "ipython",
    "version": 3
   },
   "file_extension": ".py",
   "mimetype": "text/x-python",
   "name": "python",
   "nbconvert_exporter": "python",
   "pygments_lexer": "ipython3",
   "version": "3.6.9"
  }
 },
 "nbformat": 4,
 "nbformat_minor": 2
}
